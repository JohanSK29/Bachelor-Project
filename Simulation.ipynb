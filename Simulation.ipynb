{
 "cells": [
  {
   "cell_type": "code",
   "execution_count": 2,
   "metadata": {},
   "outputs": [],
   "source": [
    "import pandas as pd"
   ]
  },
  {
   "cell_type": "code",
   "execution_count": 9,
   "metadata": {},
   "outputs": [
    {
     "name": "stdout",
     "output_type": "stream",
     "text": [
      "     price1  price2  cost1  cost2  profit1  profit2\n",
      "0       1.0     1.0    0.0    0.0   1.0000   1.0000\n",
      "1       1.0     1.0    0.0    0.0   1.9000   1.9000\n",
      "2       1.0     1.0    0.0    0.0   2.7100   2.7100\n",
      "3       1.0     1.0    0.0    0.0   3.4390   3.4390\n",
      "4       1.0     1.0    0.0    0.0   4.0951   4.0951\n",
      "..      ...     ...    ...    ...      ...      ...\n",
      "995     1.0     1.0    0.0    0.0  10.0000  10.0000\n",
      "996     1.0     1.0    0.0    0.0  10.0000  10.0000\n",
      "997     1.0     1.0    0.0    0.0  10.0000  10.0000\n",
      "998     1.0     1.0    0.0    0.0  10.0000  10.0000\n",
      "999     1.0     1.0    0.0    0.0  10.0000  10.0000\n",
      "\n",
      "[1000 rows x 6 columns]\n"
     ]
    },
    {
     "data": {
      "text/plain": [
       "<Axes: >"
      ]
     },
     "execution_count": 9,
     "metadata": {},
     "output_type": "execute_result"
    },
    {
     "data": {
      "image/png": "[encoded data removed]",
      "text/plain": [
       "<Figure size 640x480 with 1 Axes>"
      ]
     },
     "metadata": {},
     "output_type": "display_data"
    }
   ],
   "source": [
    "# Set up simulation for a sequential Bertrand game with two players playing against each other competing on price\n",
    "\n",
    "# Set up the parameters\n",
    "n = 1000\n",
    "price_range = [1, 10]\n",
    "cost_range = [0, 1]\n",
    "discount_rate = 0.9\n",
    "learning_rate = 0.1\n",
    "\n",
    "# Initialize the data\n",
    "data = pd.DataFrame(columns=['price1', 'price2', 'cost1', 'cost2', 'profit1', 'profit2'])\n",
    "\n",
    "# Initialize the prices and costs\n",
    "price1 = price_range[0]\n",
    "price2 = price_range[0]\n",
    "cost1 = cost_range[0]\n",
    "cost2 = cost_range[0]\n",
    "\n",
    "# Initialize the profits\n",
    "profit1 = 0\n",
    "profit2 = 0\n",
    "\n",
    "# Run the simulation\n",
    "for i in range(n):\n",
    "    # Calculate the profits\n",
    "    profit1 = (price1 - cost1) + discount_rate * profit1\n",
    "    profit2 = (price2 - cost2) + discount_rate * profit2\n",
    "\n",
    "    # Update the data\n",
    "    data.loc[i] = [price1, price2, cost1, cost2, profit1, profit2]\n",
    "\n",
    "    # Update the prices and costs\n",
    "    price1 = price1 + learning_rate * (profit2 - profit1)\n",
    "    price2 = price2 + learning_rate * (profit1 - profit2)\n",
    "    cost1 = cost1 + learning_rate * (profit1 - profit2)\n",
    "    cost2 = cost2 + learning_rate * (profit2 - profit1)\n",
    "\n",
    "# Print the data\n",
    "print(data)\n",
    "\n",
    "# Visualize the data\n",
    "data.plot()\n",
    "\n"
   ]
  },
  {
   "cell_type": "code",
   "execution_count": null,
   "metadata": {},
   "outputs": [],
   "source": []
  }
 ],
 "metadata": {
  "kernelspec": {
   "display_name": "Python 3",
   "language": "python",
   "name": "python3"
  },
  "language_info": {
   "codemirror_mode": {
    "name": "ipython",
    "version": 3
   },
   "file_extension": ".py",
   "mimetype": "text/x-python",
   "name": "python",
   "nbconvert_exporter": "python",
   "pygments_lexer": "ipython3",
   "version": "3.13.1"
  }
 },
 "nbformat": 4,
 "nbformat_minor": 2
}
